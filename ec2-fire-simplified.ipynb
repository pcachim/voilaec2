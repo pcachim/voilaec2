{
 "cells": [
  {
   "source": [
    "# EC2 Fire design of concrete structures (EN 1992-1-2)\n",
    "\n",
    "## Temperatures in cross sections\n",
    "\n",
    "This notebook calculates the temperature inside a concrete cross section using Eurocode simplified formulas. It also draws a cross section with temperatures."
   ],
   "cell_type": "markdown",
   "metadata": {}
  },
  {
   "cell_type": "code",
   "execution_count": 9,
   "metadata": {},
   "outputs": [],
   "source": [
    "import math\n",
    "\n",
    "def theta_1(y, h, Rfi):\n",
    "    dRfi = 720\n",
    "    k = 3.3e6\n",
    "    theta1 = 345*math.log10(1.0+7.0*(Rfi-dRfi)/60)*math.exp(-y*math.sqrt(0.9*k/Rfi))\n",
    "    return theta1\n",
    "\n",
    "def theta_2(y, h, Rfi):\n",
    "    return theta_1(y, h, Rfi) + theta_1(h-y, h, Rfi) \n",
    "\n",
    "def theta_0(y, h, Rfi):\n",
    "    return 0.0\n",
    "\n",
    "def theta_d(y, z, Rfi):\n",
    "    ac = 0.04 if Rfi <= 3600 else 0.1\n",
    "    acy = max(ac-y, 0.0)\n",
    "    acz = max(ac-z, 0.0)\n",
    "    return (345*math.log10(1.0+8.0*Rfi/60)-theta_1(0, 1, Rfi))*acy*acz/ac/ac\n",
    "\n",
    "def temp(Rfi, y, z, by, bz, yside=0, zside=1):\n",
    "    thz = theta_2 if zside == 2 else theta_1 if zside == 1 else theta_0\n",
    "    thy = theta_2 if yside == 2 else theta_1 if yside == 1 else theta_0\n",
    "\n",
    "    ac = 0.04 if Rfi <= 3600 else 0.1\n",
    "    if yside == 0 or zside == 0:\n",
    "        dtheta = 0.0\n",
    "    elif yside == 1 and zside == 1:\n",
    "        # left bottom corner \n",
    "        dtheta = theta_d(y, z, Rfi) if (y <= ac and z <= ac) else 0.0\n",
    "    elif yside == 1 and zside == 2:\n",
    "        # left bottom and top corners\n",
    "        if y <= ac:\n",
    "            if z <= ac:\n",
    "                dtheta = theta_d(y, z, Rfi) \n",
    "            elif z >= bz-ac:\n",
    "                dtheta = theta_d(y, bz-z, Rfi)\n",
    "            else:\n",
    "                dtheta = 0.0\n",
    "        else:\n",
    "            dtheta = 0.0\n",
    "    elif yside == 2 and zside == 1:\n",
    "        if z <= ac:\n",
    "            if y <= ac:\n",
    "                dtheta = theta_d(y, z, Rfi) \n",
    "            elif y >= by-ac:\n",
    "                dtheta = theta_d(by-y, z, Rfi)\n",
    "            else:\n",
    "                dtheta = 0.0\n",
    "        else:\n",
    "            dtheta = 0.0\n",
    "    elif yside == 2 and zside == 2:\n",
    "        if y <= ac:\n",
    "            if z <= ac:\n",
    "                dtheta = theta_d(y, z, Rfi) \n",
    "            elif z >= bz-ac:\n",
    "                dtheta = theta_d(y, bz-z, Rfi)\n",
    "            else:\n",
    "                dtheta = 0.0\n",
    "        elif y >= by-ac:\n",
    "            if z <= ac:\n",
    "                dtheta = theta_d(by-y, z, Rfi) \n",
    "            elif z >= bz-ac:\n",
    "                dtheta = theta_d(by-y, bz-z, Rfi)\n",
    "            else:\n",
    "                dtheta = 0.0\n",
    "        else:\n",
    "            dtheta = 0.0\n",
    "    else:\n",
    "        dtheta = 0.0   \n",
    "\n",
    "    tt = thy(y, by, Rfi) + thz(z, bz, Rfi) - thy(y, by, Rfi)*thz(z, bz, Rfi)/theta_1(0, bz, Rfi)           + dtheta\n",
    "    return tt+20"
   ]
  },
  {
   "cell_type": "code",
   "execution_count": 10,
   "metadata": {
    "tags": []
   },
   "outputs": [],
   "source": [
    "import numpy as np\n",
    "import pandas as pd\n",
    "import plotly.graph_objects as go\n",
    "import plotly.express as px\n",
    "import ipywidgets as widgets\n",
    "\n",
    "wy = widgets.BoundedFloatText(value=0., step=0.01, min=0.0, max=1.0, description='y (m):', disabled=False)\n",
    "wz = widgets.BoundedFloatText(value=0., step=0.01, min=0.0, max=1.0, description='z (m):', disabled=False)\n",
    "wby = widgets.BoundedFloatText(value=0.3, step=0.01, min=0.05, max=1.0, description='By (m):', disabled=False)\n",
    "wbz = widgets.BoundedFloatText(value=0.3, step=0.01, min=0.05, max=1.0, description='Bz (m):', disabled=False)\n",
    "wyside = widgets.BoundedIntText(value=2, step=1, min=0, max=2, description='Sides Y:', disabled=False)\n",
    "wzside = widgets.BoundedIntText(value=2, step=1, min=0, max=2, description='Sides Z:', disabled=False)\n",
    "wrfi = widgets.BoundedFloatText(value=30, step=15, min=15, max=240, description='Rfi (min):', disabled=False)\n",
    "wcolor = widgets.Dropdown(options=['RdBu_r', 'jet', \"Bluered\", 'Viridis'],\n",
    "    value='RdBu_r', description='Color:', disabled=False)"
   ]
  },
  {
   "cell_type": "markdown",
   "metadata": {},
   "source": [
    "**Temperature at a given point of a cross section**\n",
    "\n",
    "Given coordinates (y, z) of a point, the cross section size (By, Bz) and the number of sides exposed to fire (0, 1 or 2) i each direction, the temperature is calculated for a specified fire resistance (Rfi) in minutes."
   ]
  },
  {
   "cell_type": "code",
   "execution_count": 11,
   "metadata": {},
   "outputs": [
    {
     "output_type": "display_data",
     "data": {
      "text/plain": "HBox(children=(VBox(children=(BoundedFloatText(value=0.0, description='y (m):', max=1.0, step=0.01), BoundedFl…",
      "application/vnd.jupyter.widget-view+json": {
       "version_major": 2,
       "version_minor": 0,
       "model_id": "bda49f4581464621849d1d4452bee8c2"
      }
     },
     "metadata": {}
    },
    {
     "output_type": "display_data",
     "data": {
      "text/plain": "Output()",
      "application/vnd.jupyter.widget-view+json": {
       "version_major": 2,
       "version_minor": 0,
       "model_id": "58d634b8037e4dc2a384dae703163724"
      }
     },
     "metadata": {}
    }
   ],
   "source": [
    "from IPython.display import display\n",
    "ui = widgets.HBox([widgets.VBox([wy, wby, wyside,  wrfi]),\n",
    "                      widgets.VBox([wz, wbz, wzside])])\n",
    "\n",
    "def calctemp(y, z, by, bz, yside, zside, rfi):\n",
    "    th = temp(rfi*60, y, z, by, bz, yside, zside)\n",
    "    print (f\"y = {y:.2f} m, z = {z:.2f} m, Temperature = {th:.0f} ºC\")\n",
    "\n",
    "out = widgets.interactive_output(calctemp, {'y': wy, 'z': wz, 'by': wby, 'bz': wbz,\n",
    "                                           'yside': wyside, 'zside': wzside, 'rfi': wrfi})\n",
    "display(ui, out)"
   ]
  },
  {
   "cell_type": "markdown",
   "metadata": {},
   "source": [
    "**Temperature map of a cross section**\n",
    "\n",
    "Temperatures can be calculated approximately by a simplified method. The temperature map in a section can be visualised here for a rectangular cross section."
   ]
  },
  {
   "cell_type": "code",
   "execution_count": 12,
   "metadata": {},
   "outputs": [],
   "source": [
    "def calc_temperature(by, bz, yside, zside, rfi):\n",
    "    ny = int(by/0.01+1)\n",
    "    nz = int(bz/0.01+1)\n",
    "    rfi *= 60\n",
    "\n",
    "    yy = np.linspace(0.0, by, num=ny)\n",
    "    zz = np.linspace(0.0, bz, num=nz)\n",
    "    df = pd.DataFrame(index=zz, columns=yy)\n",
    "\n",
    "    for i, y in enumerate(yy):\n",
    "        for j, z in enumerate(zz):\n",
    "            #print(i,j,y,z)\n",
    "            df.iloc[j][i] = temp(rfi, y, z, by, bz, yside, zside)\n",
    "    return df\n",
    "\n",
    "df = calc_temperature(wby.value, wbz.value, wyside.value, wzside.value, wrfi.value)"
   ]
  },
  {
   "cell_type": "code",
   "execution_count": 13,
   "metadata": {},
   "outputs": [
    {
     "output_type": "display_data",
     "data": {
      "text/plain": "VBox(children=(HBox(children=(VBox(children=(BoundedFloatText(value=0.3, description='By (m):', max=1.0, min=0…",
      "application/vnd.jupyter.widget-view+json": {
       "version_major": 2,
       "version_minor": 0,
       "model_id": "484677977d8642f19ffbed18a0e1b285"
      }
     },
     "metadata": {}
    }
   ],
   "source": [
    "# 'RdBu_r', 'jet', \"Bluered\", 'Viridis'\n",
    "fig = go.Heatmap(x = df.columns, y = df.index, z = df, colorscale = 'RdBu_r')\n",
    "data=[fig]\n",
    "layout = go.Layout(height= 500, width= 500.0*wbz.value/wby.value)\n",
    "figure = go.Figure(data=data, layout=layout)\n",
    "\n",
    "g = go.FigureWidget(figure)\n",
    "\n",
    "def response(change):\n",
    "    df = calc_temperature(wby.value, wbz.value, wyside.value, wzside.value, wrfi.value) \n",
    "    with g.batch_update():\n",
    "        g.data[0].z = df\n",
    "        g.data[0].colorscale = wcolor.value\n",
    "        g.layout.height = 500.0\n",
    "        g.layout.width= 500.0*wby.value/wbz.value\n",
    "\n",
    "wby.observe(response, names=\"value\")\n",
    "wbz.observe(response, names=\"value\")\n",
    "wyside.observe(response, names=\"value\")\n",
    "wzside.observe(response, names=\"value\")\n",
    "wrfi.observe(response, names=\"value\")\n",
    "wcolor.observe(response, names=\"value\")\n",
    "\n",
    "hbox = widgets.HBox([widgets.VBox([wby, wbz,  wrfi]),widgets.VBox([wyside, wzside, wcolor])])\n",
    "vbox = widgets.VBox([hbox, g])\n",
    "vbox"
   ]
  },
  {
   "cell_type": "markdown",
   "metadata": {},
   "source": [
    "**Calculate the rim area**\n",
    "\n",
    "Simplified model. Just one zone."
   ]
  },
  {
   "cell_type": "code",
   "execution_count": 14,
   "metadata": {},
   "outputs": [
    {
     "output_type": "display_data",
     "data": {
      "text/plain": "HBox(children=(VBox(children=(BoundedFloatText(value=0.3, description='By (m):', max=1.0, min=0.05, step=0.01)…",
      "application/vnd.jupyter.widget-view+json": {
       "version_major": 2,
       "version_minor": 0,
       "model_id": "18bd4d1ba9d24758b7f3fb36126445ab"
      }
     },
     "metadata": {}
    },
    {
     "output_type": "display_data",
     "data": {
      "text/plain": "Output()",
      "application/vnd.jupyter.widget-view+json": {
       "version_major": 2,
       "version_minor": 0,
       "model_id": "d1f38c40688d4c6488068996562bb2be"
      }
     },
     "metadata": {}
    }
   ],
   "source": [
    "ui = widgets.HBox([widgets.VBox([wby, wyside,  wrfi]),\n",
    "                      widgets.VBox([wbz, wzside])])\n",
    "\n",
    "def calc_az(rfi, by, bz, yside, zside):\n",
    "    if yside == 0 and zside == 0:\n",
    "        print (f\"az = 0.0 m\")\n",
    "        return 0, by, bz\n",
    "\n",
    "    wy = by/2 if yside == 2 else by if yside == 1 else 1000\n",
    "    wz = bz/2 if zside == 2 else bz if zside == 1 else 1000\n",
    "    wfi = min(wy, wz)\n",
    "\n",
    "    if wfi >= 0.2:\n",
    "        az = round(0.011*math.sqrt(1.0+4*(rfi-27)/27.0), 3)\n",
    "    elif 0.075 <= wfi < 0.2:\n",
    "        az = round(0.011*math.sqrt(1.0+4*(rfi-27)/27.0*math.sqrt(wfi/0.0125)), 3)\n",
    "    else:\n",
    "        az = math.nan\n",
    "\n",
    "    byef = 0.0 if az is math.nan else by-yside*az\n",
    "    bzef = 0.0 if az is math.nan else bz-zside*az\n",
    "\n",
    "    print (f\"w = {wfi:.3f} m, az = {az:.3f} m\")\n",
    "    return az, byef, bzef\n",
    "\n",
    "out = widgets.interactive_output(calc_az, {'by': wby, 'bz': wbz,\n",
    "                                           'yside': wyside, 'zside': wzside, 'rfi': wrfi})\n",
    "display(ui, out)"
   ]
  },
  {
   "cell_type": "code",
   "execution_count": 15,
   "metadata": {},
   "outputs": [
    {
     "output_type": "execute_result",
     "data": {
      "text/plain": [
       "array([198. , 118.1, 198. ])"
      ]
     },
     "metadata": {},
     "execution_count": 15
    }
   ],
   "source": [
    "nlayer = 1\n",
    "nbars = 3\n",
    "asy = 0.05\n",
    "asz = 0.05\n",
    "by = wby.value\n",
    "\n",
    "ybars = np.linspace(start=asy, stop=by-asy, num=nbars)\n",
    "bar_temp = np.zeros(nbars)\n",
    "\n",
    "for i, y in enumerate(ybars):\n",
    "    bar_temp[i] = round(temp(wrfi.value*60, y, asz, wbz.value, wyside.value, wzside.value), 1)\n",
    "bar_temp"
   ]
  },
  {
   "cell_type": "markdown",
   "metadata": {},
   "source": [
    "**Temperature-dependent properties of steel and concrete**"
   ]
  },
  {
   "cell_type": "code",
   "execution_count": 16,
   "metadata": {},
   "outputs": [
    {
     "output_type": "display_data",
     "data": {
      "text/plain": "<Figure size 432x288 with 1 Axes>",
      "image/svg+xml": "<?xml version=\"1.0\" encoding=\"utf-8\" standalone=\"no\"?>\n<!DOCTYPE svg PUBLIC \"-//W3C//DTD SVG 1.1//EN\"\n  \"http://www.w3.org/Graphics/SVG/1.1/DTD/svg11.dtd\">\n<svg height=\"248.518125pt\" version=\"1.1\" viewBox=\"0 0 368.925 248.518125\" width=\"368.925pt\" xmlns=\"http://www.w3.org/2000/svg\" xmlns:xlink=\"http://www.w3.org/1999/xlink\">\n <metadata>\n  <rdf:RDF xmlns:cc=\"http://creativecommons.org/ns#\" xmlns:dc=\"http://purl.org/dc/elements/1.1/\" xmlns:rdf=\"http://www.w3.org/1999/02/22-rdf-syntax-ns#\">\n   <cc:Work>\n    <dc:type rdf:resource=\"http://purl.org/dc/dcmitype/StillImage\"/>\n    <dc:date>2021-04-25T21:44:19.619600</dc:date>\n    <dc:format>image/svg+xml</dc:format>\n    <dc:creator>\n     <cc:Agent>\n      <dc:title>Matplotlib v3.4.1, https://matplotlib.org/</dc:title>\n     </cc:Agent>\n    </dc:creator>\n   </cc:Work>\n  </rdf:RDF>\n </metadata>\n <defs>\n  <style type=\"text/css\">*{stroke-linecap:butt;stroke-linejoin:round;}</style>\n </defs>\n <g id=\"figure_1\">\n  <g id=\"patch_1\">\n   <path d=\"M -0 248.518125 \nL 368.925 248.518125 \nL 368.925 0 \nL -0 0 \nz\n\" style=\"fill:none;\"/>\n  </g>\n  <g id=\"axes_1\">\n   <g id=\"patch_2\">\n    <path d=\"M 26.925 224.64 \nL 361.725 224.64 \nL 361.725 7.2 \nL 26.925 7.2 \nz\n\" style=\"fill:#ffffff;\"/>\n   </g>\n   <g id=\"matplotlib.axis_1\">\n    <g id=\"xtick_1\">\n     <g id=\"line2d_1\">\n      <defs>\n       <path d=\"M 0 0 \nL 0 3.5 \n\" id=\"mc7484b76c5\" style=\"stroke:#000000;stroke-width:0.8;\"/>\n      </defs>\n      <g>\n       <use style=\"stroke:#000000;stroke-width:0.8;\" x=\"42.143182\" xlink:href=\"#mc7484b76c5\" y=\"224.64\"/>\n      </g>\n     </g>\n     <g id=\"text_1\">\n      <!-- 0.00 -->\n      <g transform=\"translate(31.010369 239.238437)scale(0.1 -0.1)\">\n       <defs>\n        <path d=\"M 2034 4250 \nQ 1547 4250 1301 3770 \nQ 1056 3291 1056 2328 \nQ 1056 1369 1301 889 \nQ 1547 409 2034 409 \nQ 2525 409 2770 889 \nQ 3016 1369 3016 2328 \nQ 3016 3291 2770 3770 \nQ 2525 4250 2034 4250 \nz\nM 2034 4750 \nQ 2819 4750 3233 4129 \nQ 3647 3509 3647 2328 \nQ 3647 1150 3233 529 \nQ 2819 -91 2034 -91 \nQ 1250 -91 836 529 \nQ 422 1150 422 2328 \nQ 422 3509 836 4129 \nQ 1250 4750 2034 4750 \nz\n\" id=\"DejaVuSans-30\" transform=\"scale(0.015625)\"/>\n        <path d=\"M 684 794 \nL 1344 794 \nL 1344 0 \nL 684 0 \nL 684 794 \nz\n\" id=\"DejaVuSans-2e\" transform=\"scale(0.015625)\"/>\n       </defs>\n       <use xlink:href=\"#DejaVuSans-30\"/>\n       <use x=\"63.623047\" xlink:href=\"#DejaVuSans-2e\"/>\n       <use x=\"95.410156\" xlink:href=\"#DejaVuSans-30\"/>\n       <use x=\"159.033203\" xlink:href=\"#DejaVuSans-30\"/>\n      </g>\n     </g>\n    </g>\n    <g id=\"xtick_2\">\n     <g id=\"line2d_2\">\n      <g>\n       <use style=\"stroke:#000000;stroke-width:0.8;\" x=\"113.758155\" xlink:href=\"#mc7484b76c5\" y=\"224.64\"/>\n      </g>\n     </g>\n     <g id=\"text_2\">\n      <!-- 0.01 -->\n      <g transform=\"translate(102.625343 239.238437)scale(0.1 -0.1)\">\n       <defs>\n        <path d=\"M 794 531 \nL 1825 531 \nL 1825 4091 \nL 703 3866 \nL 703 4441 \nL 1819 4666 \nL 2450 4666 \nL 2450 531 \nL 3481 531 \nL 3481 0 \nL 794 0 \nL 794 531 \nz\n\" id=\"DejaVuSans-31\" transform=\"scale(0.015625)\"/>\n       </defs>\n       <use xlink:href=\"#DejaVuSans-30\"/>\n       <use x=\"63.623047\" xlink:href=\"#DejaVuSans-2e\"/>\n       <use x=\"95.410156\" xlink:href=\"#DejaVuSans-30\"/>\n       <use x=\"159.033203\" xlink:href=\"#DejaVuSans-31\"/>\n      </g>\n     </g>\n    </g>\n    <g id=\"xtick_3\">\n     <g id=\"line2d_3\">\n      <g>\n       <use style=\"stroke:#000000;stroke-width:0.8;\" x=\"185.373128\" xlink:href=\"#mc7484b76c5\" y=\"224.64\"/>\n      </g>\n     </g>\n     <g id=\"text_3\">\n      <!-- 0.02 -->\n      <g transform=\"translate(174.240316 239.238437)scale(0.1 -0.1)\">\n       <defs>\n        <path d=\"M 1228 531 \nL 3431 531 \nL 3431 0 \nL 469 0 \nL 469 531 \nQ 828 903 1448 1529 \nQ 2069 2156 2228 2338 \nQ 2531 2678 2651 2914 \nQ 2772 3150 2772 3378 \nQ 2772 3750 2511 3984 \nQ 2250 4219 1831 4219 \nQ 1534 4219 1204 4116 \nQ 875 4013 500 3803 \nL 500 4441 \nQ 881 4594 1212 4672 \nQ 1544 4750 1819 4750 \nQ 2544 4750 2975 4387 \nQ 3406 4025 3406 3419 \nQ 3406 3131 3298 2873 \nQ 3191 2616 2906 2266 \nQ 2828 2175 2409 1742 \nQ 1991 1309 1228 531 \nz\n\" id=\"DejaVuSans-32\" transform=\"scale(0.015625)\"/>\n       </defs>\n       <use xlink:href=\"#DejaVuSans-30\"/>\n       <use x=\"63.623047\" xlink:href=\"#DejaVuSans-2e\"/>\n       <use x=\"95.410156\" xlink:href=\"#DejaVuSans-30\"/>\n       <use x=\"159.033203\" xlink:href=\"#DejaVuSans-32\"/>\n      </g>\n     </g>\n    </g>\n    <g id=\"xtick_4\">\n     <g id=\"line2d_4\">\n      <g>\n       <use style=\"stroke:#000000;stroke-width:0.8;\" x=\"256.988102\" xlink:href=\"#mc7484b76c5\" y=\"224.64\"/>\n      </g>\n     </g>\n     <g id=\"text_4\">\n      <!-- 0.03 -->\n      <g transform=\"translate(245.855289 239.238437)scale(0.1 -0.1)\">\n       <defs>\n        <path d=\"M 2597 2516 \nQ 3050 2419 3304 2112 \nQ 3559 1806 3559 1356 \nQ 3559 666 3084 287 \nQ 2609 -91 1734 -91 \nQ 1441 -91 1130 -33 \nQ 819 25 488 141 \nL 488 750 \nQ 750 597 1062 519 \nQ 1375 441 1716 441 \nQ 2309 441 2620 675 \nQ 2931 909 2931 1356 \nQ 2931 1769 2642 2001 \nQ 2353 2234 1838 2234 \nL 1294 2234 \nL 1294 2753 \nL 1863 2753 \nQ 2328 2753 2575 2939 \nQ 2822 3125 2822 3475 \nQ 2822 3834 2567 4026 \nQ 2313 4219 1838 4219 \nQ 1578 4219 1281 4162 \nQ 984 4106 628 3988 \nL 628 4550 \nQ 988 4650 1302 4700 \nQ 1616 4750 1894 4750 \nQ 2613 4750 3031 4423 \nQ 3450 4097 3450 3541 \nQ 3450 3153 3228 2886 \nQ 3006 2619 2597 2516 \nz\n\" id=\"DejaVuSans-33\" transform=\"scale(0.015625)\"/>\n       </defs>\n       <use xlink:href=\"#DejaVuSans-30\"/>\n       <use x=\"63.623047\" xlink:href=\"#DejaVuSans-2e\"/>\n       <use x=\"95.410156\" xlink:href=\"#DejaVuSans-30\"/>\n       <use x=\"159.033203\" xlink:href=\"#DejaVuSans-33\"/>\n      </g>\n     </g>\n    </g>\n    <g id=\"xtick_5\">\n     <g id=\"line2d_5\">\n      <g>\n       <use style=\"stroke:#000000;stroke-width:0.8;\" x=\"328.603075\" xlink:href=\"#mc7484b76c5\" y=\"224.64\"/>\n      </g>\n     </g>\n     <g id=\"text_5\">\n      <!-- 0.04 -->\n      <g transform=\"translate(317.470262 239.238437)scale(0.1 -0.1)\">\n       <defs>\n        <path d=\"M 2419 4116 \nL 825 1625 \nL 2419 1625 \nL 2419 4116 \nz\nM 2253 4666 \nL 3047 4666 \nL 3047 1625 \nL 3713 1625 \nL 3713 1100 \nL 3047 1100 \nL 3047 0 \nL 2419 0 \nL 2419 1100 \nL 313 1100 \nL 313 1709 \nL 2253 4666 \nz\n\" id=\"DejaVuSans-34\" transform=\"scale(0.015625)\"/>\n       </defs>\n       <use xlink:href=\"#DejaVuSans-30\"/>\n       <use x=\"63.623047\" xlink:href=\"#DejaVuSans-2e\"/>\n       <use x=\"95.410156\" xlink:href=\"#DejaVuSans-30\"/>\n       <use x=\"159.033203\" xlink:href=\"#DejaVuSans-34\"/>\n      </g>\n     </g>\n    </g>\n   </g>\n   <g id=\"matplotlib.axis_2\">\n    <g id=\"ytick_1\">\n     <g id=\"line2d_6\">\n      <defs>\n       <path d=\"M 0 0 \nL -3.5 0 \n\" id=\"m5296f3c16a\" style=\"stroke:#000000;stroke-width:0.8;\"/>\n      </defs>\n      <g>\n       <use style=\"stroke:#000000;stroke-width:0.8;\" x=\"26.925\" xlink:href=\"#m5296f3c16a\" y=\"214.756364\"/>\n      </g>\n     </g>\n     <g id=\"text_6\">\n      <!-- 0 -->\n      <g transform=\"translate(13.5625 218.555582)scale(0.1 -0.1)\">\n       <use xlink:href=\"#DejaVuSans-30\"/>\n      </g>\n     </g>\n    </g>\n    <g id=\"ytick_2\">\n     <g id=\"line2d_7\">\n      <g>\n       <use style=\"stroke:#000000;stroke-width:0.8;\" x=\"26.925\" xlink:href=\"#m5296f3c16a\" y=\"181.810909\"/>\n      </g>\n     </g>\n     <g id=\"text_7\">\n      <!-- 5 -->\n      <g transform=\"translate(13.5625 185.610128)scale(0.1 -0.1)\">\n       <defs>\n        <path d=\"M 691 4666 \nL 3169 4666 \nL 3169 4134 \nL 1269 4134 \nL 1269 2991 \nQ 1406 3038 1543 3061 \nQ 1681 3084 1819 3084 \nQ 2600 3084 3056 2656 \nQ 3513 2228 3513 1497 \nQ 3513 744 3044 326 \nQ 2575 -91 1722 -91 \nQ 1428 -91 1123 -41 \nQ 819 9 494 109 \nL 494 744 \nQ 775 591 1075 516 \nQ 1375 441 1709 441 \nQ 2250 441 2565 725 \nQ 2881 1009 2881 1497 \nQ 2881 1984 2565 2268 \nQ 2250 2553 1709 2553 \nQ 1456 2553 1204 2497 \nQ 953 2441 691 2322 \nL 691 4666 \nz\n\" id=\"DejaVuSans-35\" transform=\"scale(0.015625)\"/>\n       </defs>\n       <use xlink:href=\"#DejaVuSans-35\"/>\n      </g>\n     </g>\n    </g>\n    <g id=\"ytick_3\">\n     <g id=\"line2d_8\">\n      <g>\n       <use style=\"stroke:#000000;stroke-width:0.8;\" x=\"26.925\" xlink:href=\"#m5296f3c16a\" y=\"148.865455\"/>\n      </g>\n     </g>\n     <g id=\"text_8\">\n      <!-- 10 -->\n      <g transform=\"translate(7.2 152.664673)scale(0.1 -0.1)\">\n       <use xlink:href=\"#DejaVuSans-31\"/>\n       <use x=\"63.623047\" xlink:href=\"#DejaVuSans-30\"/>\n      </g>\n     </g>\n    </g>\n    <g id=\"ytick_4\">\n     <g id=\"line2d_9\">\n      <g>\n       <use style=\"stroke:#000000;stroke-width:0.8;\" x=\"26.925\" xlink:href=\"#m5296f3c16a\" y=\"115.92\"/>\n      </g>\n     </g>\n     <g id=\"text_9\">\n      <!-- 15 -->\n      <g transform=\"translate(7.2 119.719219)scale(0.1 -0.1)\">\n       <use xlink:href=\"#DejaVuSans-31\"/>\n       <use x=\"63.623047\" xlink:href=\"#DejaVuSans-35\"/>\n      </g>\n     </g>\n    </g>\n    <g id=\"ytick_5\">\n     <g id=\"line2d_10\">\n      <g>\n       <use style=\"stroke:#000000;stroke-width:0.8;\" x=\"26.925\" xlink:href=\"#m5296f3c16a\" y=\"82.974545\"/>\n      </g>\n     </g>\n     <g id=\"text_10\">\n      <!-- 20 -->\n      <g transform=\"translate(7.2 86.773764)scale(0.1 -0.1)\">\n       <use xlink:href=\"#DejaVuSans-32\"/>\n       <use x=\"63.623047\" xlink:href=\"#DejaVuSans-30\"/>\n      </g>\n     </g>\n    </g>\n    <g id=\"ytick_6\">\n     <g id=\"line2d_11\">\n      <g>\n       <use style=\"stroke:#000000;stroke-width:0.8;\" x=\"26.925\" xlink:href=\"#m5296f3c16a\" y=\"50.029091\"/>\n      </g>\n     </g>\n     <g id=\"text_11\">\n      <!-- 25 -->\n      <g transform=\"translate(7.2 53.82831)scale(0.1 -0.1)\">\n       <use xlink:href=\"#DejaVuSans-32\"/>\n       <use x=\"63.623047\" xlink:href=\"#DejaVuSans-35\"/>\n      </g>\n     </g>\n    </g>\n    <g id=\"ytick_7\">\n     <g id=\"line2d_12\">\n      <g>\n       <use style=\"stroke:#000000;stroke-width:0.8;\" x=\"26.925\" xlink:href=\"#m5296f3c16a\" y=\"17.083636\"/>\n      </g>\n     </g>\n     <g id=\"text_12\">\n      <!-- 30 -->\n      <g transform=\"translate(7.2 20.882855)scale(0.1 -0.1)\">\n       <use xlink:href=\"#DejaVuSans-33\"/>\n       <use x=\"63.623047\" xlink:href=\"#DejaVuSans-30\"/>\n      </g>\n     </g>\n    </g>\n   </g>\n   <g id=\"line2d_13\">\n    <path clip-path=\"url(#p14bcc6288e)\" d=\"M 42.143182 214.756364 \nL 43.130975 204.532122 \nL 44.118767 194.310814 \nL 45.10656 184.099979 \nL 46.094353 173.912148 \nL 47.082145 163.764779 \nL 48.069938 153.680115 \nL 49.057731 143.684968 \nL 50.045524 133.810404 \nL 51.033316 124.091314 \nL 52.021109 114.56586 \nL 53.008902 105.274809 \nL 53.996695 96.260749 \nL 54.984487 87.567197 \nL 55.97228 79.237632 \nL 56.960073 71.314484 \nL 57.947866 63.838093 \nL 58.935658 56.845709 \nL 59.923451 50.370551 \nL 60.911244 44.440971 \nL 61.899037 39.079767 \nL 62.886829 34.303666 \nL 63.874622 30.122998 \nL 64.862415 26.541568 \nL 65.850207 23.556738 \nL 66.838 21.159679 \nL 67.825793 19.335808 \nL 68.813586 18.065345 \nL 69.801378 17.323985 \nL 70.789171 17.083636 \nL 203.276872 214.756364 \n\" style=\"fill:none;stroke:#1f77b4;stroke-linecap:square;stroke-width:1.5;\"/>\n   </g>\n   <g id=\"line2d_14\">\n    <path clip-path=\"url(#p14bcc6288e)\" d=\"M 42.143182 214.756364 \nL 43.501397 204.838849 \nL 44.859612 194.924181 \nL 46.217827 185.01967 \nL 47.576042 175.137475 \nL 48.934257 165.294527 \nL 50.292472 155.512402 \nL 51.650687 145.81711 \nL 53.008902 136.238783 \nL 54.367117 126.811265 \nL 55.725332 117.571575 \nL 57.083547 108.559256 \nL 58.441762 99.815618 \nL 59.799977 91.382872 \nL 61.158192 83.303194 \nL 62.516407 75.61774 \nL 63.874622 68.365641 \nL 65.232837 61.583029 \nL 66.591052 55.302125 \nL 67.949267 49.550432 \nL 69.307482 44.350065 \nL 70.665697 39.717247 \nL 72.023912 35.661999 \nL 73.382127 32.188012 \nL 74.740342 29.292726 \nL 76.098557 26.96758 \nL 77.456772 25.198424 \nL 78.814987 23.966075 \nL 80.173202 23.246956 \nL 81.531417 23.013818 \nL 221.180615 214.756364 \n\" style=\"fill:none;stroke:#ff7f0e;stroke-linecap:square;stroke-width:1.5;\"/>\n   </g>\n   <g id=\"line2d_15\">\n    <path clip-path=\"url(#p14bcc6288e)\" d=\"M 42.143182 214.756364 \nL 43.871819 205.452304 \nL 45.600456 196.150914 \nL 47.329094 186.859053 \nL 49.057731 177.588128 \nL 50.786368 168.354022 \nL 52.515006 159.176977 \nL 54.243643 150.081393 \nL 55.97228 141.095541 \nL 57.700917 132.251168 \nL 59.429555 123.583005 \nL 61.158192 115.128149 \nL 62.886829 106.925355 \nL 64.615467 99.014222 \nL 66.344104 91.434318 \nL 68.072741 84.224253 \nL 69.801378 77.420737 \nL 71.530016 71.057668 \nL 73.258653 65.165274 \nL 74.98729 59.769356 \nL 76.715928 54.89066 \nL 78.444565 50.544409 \nL 80.173202 46.740001 \nL 81.901839 43.4809 \nL 83.630477 40.764704 \nL 85.359114 38.583381 \nL 87.087751 36.923658 \nL 88.816389 35.767536 \nL 90.545026 35.092899 \nL 92.273663 34.874182 \nL 239.084358 214.756364 \n\" style=\"fill:none;stroke:#2ca02c;stroke-linecap:square;stroke-width:1.5;\"/>\n   </g>\n   <g id=\"line2d_16\">\n    <path clip-path=\"url(#p14bcc6288e)\" d=\"M 42.143182 214.756364 \nL 44.612664 206.065758 \nL 47.082145 197.377646 \nL 49.551627 188.698436 \nL 52.021109 180.038781 \nL 54.490591 171.413517 \nL 56.960073 162.841552 \nL 59.429555 154.345677 \nL 61.899037 145.952298 \nL 64.368518 137.691071 \nL 66.838 129.594435 \nL 69.307482 121.697043 \nL 71.776964 114.035092 \nL 74.246446 106.645572 \nL 76.715928 99.565442 \nL 79.185409 92.830766 \nL 81.654891 86.475833 \nL 84.124373 80.532307 \nL 86.593855 75.028423 \nL 89.063337 69.988279 \nL 91.532819 65.431256 \nL 94.0023 61.371571 \nL 96.471782 57.818003 \nL 98.941264 54.773788 \nL 101.410746 52.236682 \nL 103.880228 50.199182 \nL 106.34971 48.648891 \nL 108.819191 47.568997 \nL 111.288673 46.938842 \nL 113.758155 46.734545 \nL 256.988102 214.756364 \n\" style=\"fill:none;stroke:#d62728;stroke-linecap:square;stroke-width:1.5;\"/>\n   </g>\n   <g id=\"line2d_17\">\n    <path clip-path=\"url(#p14bcc6288e)\" d=\"M 42.143182 214.756364 \nL 45.847405 207.190425 \nL 49.551627 199.626657 \nL 53.25585 192.070639 \nL 56.960073 184.531644 \nL 60.664296 177.022591 \nL 64.368518 169.559939 \nL 68.072741 162.163531 \nL 71.776964 154.856354 \nL 75.481187 147.664227 \nL 79.185409 140.615391 \nL 82.889632 133.740014 \nL 86.593855 127.069609 \nL 90.298078 120.63638 \nL 94.0023 114.472502 \nL 97.706523 108.609372 \nL 101.410746 103.076843 \nL 105.114969 97.902479 \nL 108.819191 93.110862 \nL 112.523414 88.722973 \nL 116.227637 84.755682 \nL 119.93186 81.221368 \nL 123.636082 78.127673 \nL 127.340305 75.477415 \nL 131.044528 73.26864 \nL 134.748751 71.494817 \nL 138.452973 70.145152 \nL 142.157196 69.20501 \nL 145.861419 68.656403 \nL 149.565642 68.478545 \nL 274.891845 214.756364 \n\" style=\"fill:none;stroke:#9467bd;stroke-linecap:square;stroke-width:1.5;\"/>\n   </g>\n   <g id=\"line2d_18\">\n    <path clip-path=\"url(#p14bcc6288e)\" d=\"M 42.143182 214.756364 \nL 48.316886 208.621819 \nL 54.490591 202.489034 \nL 60.664296 196.362533 \nL 66.838 190.249834 \nL 73.011705 184.161413 \nL 79.185409 178.110614 \nL 85.359114 172.113526 \nL 91.532819 166.188788 \nL 97.706523 160.357334 \nL 103.880228 154.642061 \nL 110.053932 149.067431 \nL 116.227637 143.658995 \nL 122.401342 138.442864 \nL 128.575046 133.445125 \nL 134.748751 128.691236 \nL 140.922455 124.205401 \nL 147.09616 120.009971 \nL 153.269864 116.124876 \nL 159.443569 112.567128 \nL 165.617274 109.350406 \nL 171.790978 106.484745 \nL 177.964683 103.976344 \nL 184.138387 101.827487 \nL 190.312092 100.036588 \nL 196.485797 98.598353 \nL 202.659501 97.50403 \nL 208.833206 96.741752 \nL 215.00691 96.296936 \nL 221.180615 96.152727 \nL 292.795588 214.756364 \n\" style=\"fill:none;stroke:#8c564b;stroke-linecap:square;stroke-width:1.5;\"/>\n   </g>\n   <g id=\"line2d_19\">\n    <path clip-path=\"url(#p14bcc6288e)\" d=\"M 42.143182 214.756364 \nL 48.316886 210.35994 \nL 54.490591 205.964777 \nL 60.664296 201.574118 \nL 66.838 197.193351 \nL 73.011705 192.829982 \nL 79.185409 188.493577 \nL 85.359114 184.195663 \nL 91.532819 179.949601 \nL 97.706523 175.770392 \nL 103.880228 171.674447 \nL 110.053932 167.679295 \nL 116.227637 163.80325 \nL 122.401342 160.065022 \nL 128.575046 156.483309 \nL 134.748751 153.076355 \nL 140.922455 149.861507 \nL 147.09616 146.854782 \nL 153.269864 144.070464 \nL 159.443569 141.520745 \nL 165.617274 139.215427 \nL 171.790978 137.161704 \nL 177.964683 135.364016 \nL 184.138387 133.824002 \nL 190.312092 132.540524 \nL 196.485797 131.509789 \nL 202.659501 130.725525 \nL 208.833206 130.179225 \nL 215.00691 129.860441 \nL 221.180615 129.757091 \nL 310.699332 214.756364 \n\" style=\"fill:none;stroke:#e377c2;stroke-linecap:square;stroke-width:1.5;\"/>\n   </g>\n   <g id=\"line2d_20\">\n    <path clip-path=\"url(#p14bcc6288e)\" d=\"M 42.143182 214.756364 \nL 48.316886 211.995818 \nL 54.490591 209.236065 \nL 60.664296 206.47914 \nL 66.838 203.728426 \nL 73.011705 200.988636 \nL 79.185409 198.265776 \nL 85.359114 195.567087 \nL 91.532819 192.900955 \nL 97.706523 190.2768 \nL 103.880228 187.704928 \nL 110.053932 185.196344 \nL 116.227637 182.762548 \nL 122.401342 180.415289 \nL 128.575046 178.166306 \nL 134.748751 176.027056 \nL 140.922455 174.00843 \nL 147.09616 172.120487 \nL 153.269864 170.372194 \nL 159.443569 168.771207 \nL 165.617274 167.323682 \nL 171.790978 166.034135 \nL 177.964683 164.905355 \nL 184.138387 163.938369 \nL 190.312092 163.132465 \nL 196.485797 162.485259 \nL 202.659501 161.992814 \nL 208.833206 161.649788 \nL 215.00691 161.449621 \nL 221.180615 161.384727 \nL 328.603075 214.756364 \n\" style=\"fill:none;stroke:#7f7f7f;stroke-linecap:square;stroke-width:1.5;\"/>\n   </g>\n   <g id=\"line2d_21\">\n    <path clip-path=\"url(#p14bcc6288e)\" d=\"M 42.143182 214.756364 \nL 48.316886 213.222727 \nL 54.490591 211.689531 \nL 60.664296 210.157906 \nL 66.838 208.629731 \nL 73.011705 207.107626 \nL 79.185409 205.594926 \nL 85.359114 204.095654 \nL 91.532819 202.61447 \nL 97.706523 201.156606 \nL 103.880228 199.727788 \nL 110.053932 198.334131 \nL 116.227637 196.982022 \nL 122.401342 195.677989 \nL 128.575046 194.428554 \nL 134.748751 193.240082 \nL 140.922455 192.118623 \nL 147.09616 191.069765 \nL 153.269864 190.098492 \nL 159.443569 189.209055 \nL 165.617274 188.404874 \nL 171.790978 187.688459 \nL 177.964683 187.061359 \nL 184.138387 186.524144 \nL 190.312092 186.07642 \nL 196.485797 185.716861 \nL 202.659501 185.44328 \nL 208.833206 185.252711 \nL 215.00691 185.141507 \nL 221.180615 185.105455 \nL 346.506818 214.756364 \n\" style=\"fill:none;stroke:#bcbd22;stroke-linecap:square;stroke-width:1.5;\"/>\n   </g>\n   <g id=\"patch_3\">\n    <path d=\"M 26.925 224.64 \nL 26.925 7.2 \n\" style=\"fill:none;stroke:#000000;stroke-linecap:square;stroke-linejoin:miter;stroke-width:0.8;\"/>\n   </g>\n   <g id=\"patch_4\">\n    <path d=\"M 361.725 224.64 \nL 361.725 7.2 \n\" style=\"fill:none;stroke:#000000;stroke-linecap:square;stroke-linejoin:miter;stroke-width:0.8;\"/>\n   </g>\n   <g id=\"patch_5\">\n    <path d=\"M 26.925 224.64 \nL 361.725 224.64 \n\" style=\"fill:none;stroke:#000000;stroke-linecap:square;stroke-linejoin:miter;stroke-width:0.8;\"/>\n   </g>\n   <g id=\"patch_6\">\n    <path d=\"M 26.925 7.2 \nL 361.725 7.2 \n\" style=\"fill:none;stroke:#000000;stroke-linecap:square;stroke-linejoin:miter;stroke-width:0.8;\"/>\n   </g>\n  </g>\n </g>\n <defs>\n  <clipPath id=\"p14bcc6288e\">\n   <rect height=\"217.44\" width=\"334.8\" x=\"26.925\" y=\"7.2\"/>\n  </clipPath>\n </defs>\n</svg>\n",
      "image/png": "[encoded data removed]"
     },
     "metadata": {
      "needs_background": "light"
     }
    }
   ],
   "source": [
    "import ec2_fire_base as fire\n",
    "df_conc = fire.df_conc\n",
    "\n",
    "def fck_resid(maxtemp, df_conc, fck, agg='calc'):\n",
    "    colname = 'kct_70' if fck >= 70 else 'kct_cal' if agg == 'calc' else 'kct_sil'\n",
    "    \n",
    "    phi = np.interp(maxtemp, df_conc.index, df_conc[colname])\n",
    "    if fck < 70 and maxtemp > 100:\n",
    "        phi *= (-0.00005*maxtemp + 1.05)\n",
    "\n",
    "    return round(phi, 3)\n",
    "\n",
    "def fck_temp(eps, maxtemp, df_conc, fck, agg='calc'):\n",
    "    colname = 'kct_70' if fck >= 70 else 'kct_cal' if agg == 'calc' else 'kct_sil' \n",
    "    \n",
    "    phi = np.interp(maxtemp, df_conc.index, df_conc[colname])      \n",
    "    epsc1 = np.interp(maxtemp, df_conc.index, df_conc['eps1t'])\n",
    "    epscu1 = np.interp(maxtemp, df_conc.index, df_conc['epsu1t'])\n",
    "\n",
    "    if eps <= epsc1:\n",
    "        sig = 3.0*eps*phi*fck / (2.0+math.pow(eps/epsc1, 3)) / epsc1\n",
    "    elif eps < epscu1:\n",
    "        sig = (1.0 - (eps-epsc1)/(epscu1-epsc1)) * phi * fck \n",
    "    else:\n",
    "        sig = 0\n",
    "\n",
    "    return round(sig, 3), phi * fck\n",
    "\n",
    "def fck_temp_diag(maxtemp, df_conc, fck, agg='calc'):\n",
    "    colname = 'kct_70' if fck >= 70 else 'kct_cal' if agg == 'calc' else 'kct_sil' \n",
    "    \n",
    "    phi = np.interp(maxtemp, df_conc.index, df_conc[colname])*fck     \n",
    "    epsc1 = np.interp(maxtemp, df_conc.index, df_conc['eps1t'])\n",
    "    epscu1 = np.interp(maxtemp, df_conc.index, df_conc['epsu1t'])\n",
    "\n",
    "    num = 30\n",
    "    epsnp = np.linspace(0, epsc1, num=num)\n",
    "    signp = np.zeros(num)\n",
    "    aux1 = 3.0 / epsc1\n",
    "\n",
    "    signp = epsnp * aux1 / (2.0+np.power(epsnp/epsc1, 3))\n",
    "    #for i, x in enumerate(epsnp):\n",
    "    #    signp[i] = x * aux1 / (2.0+math.pow(x/epsc1, 3))\n",
    "\n",
    "    epsnp = np.append(epsnp, [epscu1])\n",
    "    signp = np.append(signp, [0.0])\n",
    "    return epsnp, signp * phi\n",
    "\n",
    "import matplotlib.pyplot as plt\n",
    "for i in range(1, 10):\n",
    "    epsnp, signp = fck_temp_diag(i*100.0, df_conc, 30)\n",
    "    plt.plot(epsnp, signp)"
   ]
  },
  {
   "source": [
    "Index: [index](./ec2-fire-base.ipynb) | Next: [distance correction](./ec2-fire-tables.ipynb)"
   ],
   "cell_type": "markdown",
   "metadata": {}
  }
 ],
 "metadata": {
  "kernelspec": {
   "display_name": "venv",
   "language": "python",
   "name": "venv"
  },
  "language_info": {
   "codemirror_mode": {
    "name": "ipython",
    "version": 3
   },
   "file_extension": ".py",
   "mimetype": "text/x-python",
   "name": "python",
   "nbconvert_exporter": "python",
   "pygments_lexer": "ipython3",
   "version": "3.8.3"
  }
 },
 "nbformat": 4,
 "nbformat_minor": 4
}