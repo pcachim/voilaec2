{
 "cells": [
  {
   "source": [
    "# EC2 Fire design of concrete structures (EN 1992-1-2)\n",
    "\n",
    "## Temperatures in cross sections\n",
    "\n",
    "This notebook calculates the temperature inside a concrete cross section using Eurocode simplified formulas. It also draws a cross section with temperatures.\n",
    "\n",
    "**Other notebooks in the series**\n",
    "\n",
    "* correcting the distance according to critical temperature in tabulated data: [distance correction](./ec2-fire-tables.ipynb)"
   ],
   "cell_type": "markdown",
   "metadata": {}
  },
  {
   "cell_type": "code",
   "execution_count": 14,
   "metadata": {},
   "outputs": [],
   "source": [
    "import math\n",
    "\n",
    "x = 0.0\n",
    "h = 1.0\n",
    "rfi = 3600\n",
    "\n",
    "def theta_1(y, h, Rfi):\n",
    "    dRfi = 720\n",
    "    k = 3.3e6\n",
    "    theta1 = 345*math.log10(1.0+7.0*(Rfi-dRfi)/60)*math.exp(-y*math.sqrt(0.9*k/Rfi))\n",
    "    return theta1\n",
    "\n",
    "def theta_2(y, h, Rfi):\n",
    "    return theta_1(y, h, Rfi) + theta_1(h-y, h, Rfi) \n",
    "\n",
    "def theta_0(y, h, Rfi):\n",
    "    return 0.0\n",
    "\n",
    "def theta_d(y, z, Rfi):\n",
    "    ac = 0.04 if Rfi <= 3600 else 0.1\n",
    "    acy = max(ac-y, 0.0)\n",
    "    acz = max(ac-z, 0.0)\n",
    "    return (345*math.log10(1.0+8.0*Rfi/60)-theta_1(0, 1, Rfi))*acy*acz/ac/ac\n",
    "\n",
    "def temp(Rfi, y, z, by, bz, yside=0, zside=1):\n",
    "    thz = theta_2 if zside == 2 else theta_1 if zside == 1 else theta_0\n",
    "    thy = theta_2 if yside == 2 else theta_1 if yside == 1 else theta_0\n",
    "\n",
    "    ac = 0.04 if Rfi <= 3600 else 0.1\n",
    "    if yside == 0 or zside == 0:\n",
    "        dtheta = 0.0\n",
    "    elif yside == 1 and zside == 1:\n",
    "        # left bottom corner \n",
    "        dtheta = theta_d(y, z, Rfi) if (y <= ac and z <= ac) else 0.0\n",
    "    elif yside == 1 and zside == 2:\n",
    "        # left bottom and top corners\n",
    "        if y <= ac:\n",
    "            if z <= ac:\n",
    "                dtheta = theta_d(y, z, Rfi) \n",
    "            elif z >= bz-ac:\n",
    "                dtheta = theta_d(y, bz-z, Rfi)\n",
    "            else:\n",
    "                dtheta = 0.0\n",
    "        else:\n",
    "            dtheta = 0.0\n",
    "    elif yside == 2 and zside == 1:\n",
    "        if z <= ac:\n",
    "            if y <= ac:\n",
    "                dtheta = theta_d(y, z, Rfi) \n",
    "            elif y >= by-ac:\n",
    "                dtheta = theta_d(by-y, z, Rfi)\n",
    "            else:\n",
    "                dtheta = 0.0\n",
    "        else:\n",
    "            dtheta = 0.0\n",
    "    elif yside == 2 and zside == 2:\n",
    "        if y <= ac:\n",
    "            if z <= ac:\n",
    "                dtheta = theta_d(y, z, Rfi) \n",
    "            elif z >= bz-ac:\n",
    "                dtheta = theta_d(y, bz-z, Rfi)\n",
    "            else:\n",
    "                dtheta = 0.0\n",
    "        elif y >= by-ac:\n",
    "            if z <= ac:\n",
    "                dtheta = theta_d(by-y, z, Rfi) \n",
    "            elif z >= bz-ac:\n",
    "                dtheta = theta_d(by-y, bz-z, Rfi)\n",
    "            else:\n",
    "                dtheta = 0.0\n",
    "        else:\n",
    "            dtheta = 0.0\n",
    "    else:\n",
    "        dtheta = 0.0   \n",
    "\n",
    "    tt = thy(y, by, Rfi) + thz(z, bz, Rfi) - thy(y, by, Rfi)*thz(z, bz, Rfi)/theta_1(0, bz, Rfi)           + dtheta\n",
    "    return tt+20"
   ]
  },
  {
   "cell_type": "code",
   "execution_count": 15,
   "metadata": {
    "tags": []
   },
   "outputs": [],
   "source": [
    "import numpy as np\n",
    "import pandas as pd\n",
    "import plotly.graph_objects as go\n",
    "import plotly.express as px\n",
    "import ipywidgets as widgets\n",
    "\n",
    "wy = widgets.BoundedFloatText(value=0., step=0.01, min=0.0, max=1.0, description='y (m):', disabled=False)\n",
    "wz = widgets.BoundedFloatText(value=0., step=0.01, min=0.0, max=1.0, description='z (m):', disabled=False)\n",
    "wby = widgets.BoundedFloatText(value=0.3, step=0.01, min=0.05, max=1.0, description='By (m):', disabled=False)\n",
    "wbz = widgets.BoundedFloatText(value=0.3, step=0.01, min=0.05, max=1.0, description='Bz (m):', disabled=False)\n",
    "wyside = widgets.BoundedIntText(value=2, step=1, min=0, max=2, description='Sides Y:', disabled=False)\n",
    "wzside = widgets.BoundedIntText(value=2, step=1, min=0, max=2, description='Sides Z:', disabled=False)\n",
    "wrfi = widgets.BoundedFloatText(value=30, step=15, min=15, max=240, description='Rfi (min):', disabled=False)\n",
    "wcolor = widgets.Dropdown(options=['RdBu_r', 'jet', \"Bluered\", 'Viridis'],\n",
    "    value='RdBu_r', description='Color:', disabled=False)"
   ]
  },
  {
   "source": [
    "**Temperature at a given point of a cross section**\n",
    "\n",
    "Given coordinates (y, z) of a point, the cross section size (By, Bz) and the number of sides exposed to fire (0, 1 or 2) i each direction, the temperature is calculated for a specified fire resistance (Rfi) in minutes."
   ],
   "cell_type": "markdown",
   "metadata": {}
  },
  {
   "cell_type": "code",
   "execution_count": 16,
   "metadata": {},
   "outputs": [
    {
     "output_type": "display_data",
     "data": {
      "text/plain": "HBox(children=(VBox(children=(BoundedFloatText(value=0.0, description='y (m):', max=1.0, step=0.01), BoundedFl…",
      "application/vnd.jupyter.widget-view+json": {
       "version_major": 2,
       "version_minor": 0,
       "model_id": "3208a8ca113a478c8e9d881527ded685"
      }
     },
     "metadata": {}
    },
    {
     "output_type": "display_data",
     "data": {
      "text/plain": "Output()",
      "application/vnd.jupyter.widget-view+json": {
       "version_major": 2,
       "version_minor": 0,
       "model_id": "6b7168b398954ef484115c571e5a9e1d"
      }
     },
     "metadata": {}
    }
   ],
   "source": [
    "from IPython.display import display\n",
    "ui = widgets.HBox([widgets.VBox([wy, wby, wyside,  wrfi]),\n",
    "                      widgets.VBox([wz, wbz, wzside])])\n",
    "\n",
    "def calctemp(y, z, by, bz, yside, zside, rfi):\n",
    "    th = temp(rfi*60, y, z, by, bz, yside, zside)\n",
    "    print (f\"y = {y:.2f} m, z = {z:.2f} m, Temperature = {th:.0f} ºC\")\n",
    "\n",
    "out = widgets.interactive_output(calctemp, {'y': wy, 'z': wz, 'by': wby, 'bz': wbz,\n",
    "                                           'yside': wyside, 'zside': wzside, 'rfi': wrfi})\n",
    "display(ui, out)"
   ]
  },
  {
   "source": [
    "**Temperature map of a cross section**\n",
    "\n",
    "Temperatures can be calculated approximately by a simplified method. The temperature map in a section can be visualised here for a rectangular cross section."
   ],
   "cell_type": "markdown",
   "metadata": {}
  },
  {
   "cell_type": "code",
   "execution_count": 17,
   "metadata": {},
   "outputs": [],
   "source": [
    "def calc_temperature(by, bz, yside, zside, rfi):\n",
    "    ny = int(by/0.01+1)\n",
    "    nz = int(bz/0.01+1)\n",
    "    rfi *= 60\n",
    "\n",
    "    yy = np.linspace(0.0, by, num=ny)\n",
    "    zz = np.linspace(0.0, bz, num=nz)\n",
    "    df = pd.DataFrame(index=zz, columns=yy)\n",
    "\n",
    "    for i, y in enumerate(yy):\n",
    "        for j, z in enumerate(zz):\n",
    "            #print(i,j,y,z)\n",
    "            df.iloc[j][i] = temp(rfi, y, z, by, bz, yside, zside)\n",
    "    return df\n",
    "\n",
    "df = calc_temperature(wby.value, wbz.value, wyside.value, wzside.value, wrfi.value)"
   ]
  },
  {
   "cell_type": "code",
   "execution_count": 18,
   "metadata": {},
   "outputs": [
    {
     "output_type": "display_data",
     "data": {
      "text/plain": "VBox(children=(HBox(children=(VBox(children=(BoundedFloatText(value=0.3, description='By (m):', max=1.0, min=0…",
      "application/vnd.jupyter.widget-view+json": {
       "version_major": 2,
       "version_minor": 0,
       "model_id": "912cb3fc4bb84c299fe4845470ff2a4d"
      }
     },
     "metadata": {}
    }
   ],
   "source": [
    "# 'RdBu_r', 'jet', \"Bluered\", 'Viridis'\n",
    "fig = go.Heatmap(x = df.columns, y = df.index, z = df, colorscale = 'RdBu_r')\n",
    "data=[fig]\n",
    "layout = go.Layout(height= 500, width= 500.0*wbz.value/wby.value)\n",
    "figure = go.Figure(data=data, layout=layout)\n",
    "\n",
    "g = go.FigureWidget(figure)\n",
    "\n",
    "def response(change):\n",
    "    df = calc_temperature(wby.value, wbz.value, wyside.value, wzside.value, wrfi.value) \n",
    "    with g.batch_update():\n",
    "        g.data[0].z = df\n",
    "        g.data[0].colorscale = wcolor.value\n",
    "        g.layout.height = 500.0\n",
    "        g.layout.width= 500.0*wby.value/wbz.value\n",
    "\n",
    "wby.observe(response, names=\"value\")\n",
    "wbz.observe(response, names=\"value\")\n",
    "wyside.observe(response, names=\"value\")\n",
    "wzside.observe(response, names=\"value\")\n",
    "wrfi.observe(response, names=\"value\")\n",
    "wcolor.observe(response, names=\"value\")\n",
    "\n",
    "hbox = widgets.HBox([widgets.VBox([wby, wbz,  wrfi]),widgets.VBox([wyside, wzside, wcolor])])\n",
    "vbox = widgets.VBox([hbox, g])\n",
    "vbox"
   ]
  },
  {
   "source": [
    "**Calculate the rim area**\n",
    "\n",
    "Simplified model. Just one zone."
   ],
   "cell_type": "markdown",
   "metadata": {}
  },
  {
   "cell_type": "code",
   "execution_count": 19,
   "metadata": {},
   "outputs": [
    {
     "output_type": "display_data",
     "data": {
      "text/plain": "HBox(children=(VBox(children=(BoundedFloatText(value=0.3, description='By (m):', max=1.0, min=0.05, step=0.01)…",
      "application/vnd.jupyter.widget-view+json": {
       "version_major": 2,
       "version_minor": 0,
       "model_id": "93bc82edeec54f97a39b1474b988bb1e"
      }
     },
     "metadata": {}
    },
    {
     "output_type": "display_data",
     "data": {
      "text/plain": "Output()",
      "application/vnd.jupyter.widget-view+json": {
       "version_major": 2,
       "version_minor": 0,
       "model_id": "c7e718732a6f42a497ad89a5e5ed82a2"
      }
     },
     "metadata": {}
    }
   ],
   "source": [
    "ui = widgets.HBox([widgets.VBox([wby, wyside,  wrfi]),\n",
    "                      widgets.VBox([wbz, wzside])])\n",
    "\n",
    "def calc_az(rfi, by, bz, yside, zside):\n",
    "    if yside == 0 and zside == 0:\n",
    "        print (f\"az = 0.0 m\")\n",
    "        return 0, by, bz\n",
    "\n",
    "    wy = by/2 if yside == 2 else by if yside == 1 else 1000\n",
    "    wz = bz/2 if zside == 2 else bz if zside == 1 else 1000\n",
    "    wfi = min(wy, wz)\n",
    "\n",
    "    if wfi >= 0.2:\n",
    "        az = round(0.011*math.sqrt(1.0+4*(rfi-27)/27.0), 3)\n",
    "    elif 0.075 <= wfi < 0.2:\n",
    "        az = round(0.011*math.sqrt(1.0+4*(rfi-27)/27.0*math.sqrt(wfi/0.0125)), 3)\n",
    "    else:\n",
    "        az = math.nan\n",
    "\n",
    "    byef = 0.0 if az is math.nan else by-yside*az\n",
    "    bzef = 0.0 if az is math.nan else bz-zside*az\n",
    "\n",
    "    print (f\"w = {wfi:.3f} m, az = {az:.3f} m\")\n",
    "    return az, byef, bzef\n",
    "\n",
    "out = widgets.interactive_output(calc_az, {'by': wby, 'bz': wbz,\n",
    "                                           'yside': wyside, 'zside': wzside, 'rfi': wrfi})\n",
    "display(ui, out)"
   ]
  },
  {
   "cell_type": "code",
   "execution_count": 20,
   "metadata": {},
   "outputs": [
    {
     "output_type": "execute_result",
     "data": {
      "text/plain": [
       "array([198. , 118.1, 198. ])"
      ]
     },
     "metadata": {},
     "execution_count": 20
    }
   ],
   "source": [
    "nlayer = 1\n",
    "nbars = 3\n",
    "asy = 0.05\n",
    "asz = 0.05\n",
    "by = wby.value\n",
    "\n",
    "ybars = np.linspace(start=asy, stop=by-asy, num=nbars)\n",
    "bar_temp = np.zeros(nbars)\n",
    "\n",
    "for i, y in enumerate(ybars):\n",
    "    bar_temp[i] = round(temp(wrfi.value*60, y, asz, wbz.value, wyside.value, wzside.value), 1)\n",
    "bar_temp"
   ]
  },
  {
   "source": [
    "**Temperature-dependent properrties of steel and concrete**"
   ],
   "cell_type": "markdown",
   "metadata": {}
  },
  {
   "cell_type": "code",
   "execution_count": 40,
   "metadata": {},
   "outputs": [
    {
     "output_type": "stream",
     "name": "stdout",
     "text": [
      "Float64Index([ 0.0, 0.01, 0.02, 0.03, 0.04, 0.05, 0.06, 0.07, 0.08, 0.09,  0.1,\n              0.11, 0.12, 0.13, 0.14, 0.15, 0.16, 0.17, 0.18, 0.19,  0.2, 0.21,\n              0.22, 0.23, 0.24, 0.25, 0.26, 0.27, 0.28, 0.29,  0.3],\n             dtype='float64')\n20      1.00\n100     1.00\n200     0.95\n300     0.85\n400     0.75\n500     0.60\n600     0.45\n700     0.30\n800     0.15\n900     0.08\n1000    0.04\n1100    0.01\n1200    0.00\nName: kct_sil, dtype: float64\ncolname='kct_sil'\nphi=0.6\n"
     ]
    }
   ],
   "source": [
    "stemp = np.array([20, 100, 200, 300, 400, 500, 600, 700, 800, 900, 1000, 1100, 1200])\n",
    "sig_ks = np.array(['ksyt_hot', 'ksyt_cold', 'kspt_hot', \n",
    "                   'kspt_cold', 'kse', 'kest_hot', 'kest_cold'])\n",
    "values_ks = np.array([\n",
    "    [ 1.00, 1.00, 1.00, 1.00, 1.00, 1.00, 1.00],\n",
    "    [ 1.00, 1.00, 1.00, 0.96, 1.00, 1.00, 1.00],\n",
    "    [ 1.00, 1.00, 0.81, 0.92, 0.95, 0.90, 0.87],\n",
    "    [ 1.00, 1.00, 0.61, 0.81, 0.90, 0.80, 0.72],\n",
    "    [ 1.00, 0.94, 0.42, 0.63, 0.85, 0.70, 0.56],\n",
    "    [ 0.78, 0.67, 0.36, 0.44, 0.60, 0.60, 0.40],\n",
    "    [ 0.47, 0.40, 0.18, 0.26, 0.35, 0.31, 0.24],\n",
    "    [ 0.23, 0.12, 0.07, 0.08, 0.10, 0.13, 0.08],\n",
    "    [ 0.11, 0.11, 0.05, 0.06, 0.08, 0.09, 0.06],\n",
    "    [ 0.06, 0.08, 0.04, 0.05, 0.06, 0.07, 0.05],\n",
    "    [ 0.04, 0.05, 0.02, 0.03, 0.04, 0.04, 0.03],\n",
    "    [ 0.02, 0.03, 0.01, 0.02, 0.02, 0.02, 0.02],\n",
    "    [ 0.00, 0.00, 0.00, 0.00, 0.00, 0.00, 0.00]\n",
    "    ])\n",
    "\n",
    "sig_kc = np.array(['kct_sil', 'kct_cal', 'kct_70', 'eps1t', 'epsu1t'])\n",
    "values_kc = np.array([\n",
    "    [ 1.00, 1.00, 1.00, 0.0025, 0.0200],\n",
    "    [ 1.00, 1.00, 1.00, 0.0040, 0.0225],\n",
    "    [ 0.95, 0.97, 0.75, 0.0055, 0.0250],\n",
    "    [ 0.85, 0.91, 0.75, 0.0070, 0.0275],\n",
    "    [ 0.75, 0.85, 0.75, 0.0100, 0.0300],\n",
    "    [ 0.60, 0.74, 0.60, 0.0150, 0.0325],\n",
    "    [ 0.45, 0.60, 0.45, 0.0250, 0.0350],\n",
    "    [ 0.30, 0.43, 0.30, 0.0250, 0.0375],\n",
    "    [ 0.15, 0.27, 0.15, 0.0250, 0.0400],\n",
    "    [ 0.08, 0.15, 0.08, 0.0250, 0.0425],\n",
    "    [ 0.04, 0.06, 0.04, 0.0250, 0.0450],\n",
    "    [ 0.01, 0.02, 0.01, 0.0250, 0.0475],\n",
    "    [ 0.00, 0.00, 0.00, math.nan, math.nan]\n",
    "    ])\n",
    "\n",
    "df_conc = pd.DataFrame(data=values_kc, index=stemp, columns=sig_kc)\n",
    "df_steel = pd.DataFrame(data=values_ks, index=stemp, columns=sig_ks)\n",
    "\n",
    "def fck_resid(maxtemp, df_conc, fck, agg='calc'):\n",
    "    colname = 'kct_70' if fck >= 70 else 'kct_cal' if agg == 'calc' else 'kct_sil'\n",
    "    series = df_conc[colname]\n",
    "    \n",
    "    phi = np.interp(maxtemp, df_conc.index, df_conc[colname])\n",
    "    if fck < 70:\n",
    "        ...\n",
    "    else:\n",
    "        ...\n",
    "    print(f\"{colname=}\\n{phi=}\")\n",
    "    print(f\"{df.index}\\n{df_conc[colname]}\")\n",
    "\n",
    "fck_resid(500, df_conc, 50, agg='sil')"
   ]
  },
  {
   "cell_type": "code",
   "execution_count": null,
   "metadata": {},
   "outputs": [],
   "source": []
  }
 ],
 "metadata": {
  "kernelspec": {
   "display_name": "venv",
   "language": "python",
   "name": "venv"
  },
  "language_info": {
   "codemirror_mode": {
    "name": "ipython",
    "version": 3
   },
   "file_extension": ".py",
   "mimetype": "text/x-python",
   "name": "python",
   "nbconvert_exporter": "python",
   "pygments_lexer": "ipython3",
   "version": "3.8.3"
  }
 },
 "nbformat": 4,
 "nbformat_minor": 4
}