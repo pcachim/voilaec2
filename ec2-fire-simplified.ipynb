{
 "cells": [
  {
   "cell_type": "markdown",
   "metadata": {},
   "source": [
    "# EC2 Fire design of concrete structures\n",
    "\n",
    "This notebook calculates the temperature inside a concrete cross section using Eurocode simplified formulas. It also draws a cross section with temperatures."
   ]
  },
  {
   "cell_type": "code",
   "execution_count": 1,
   "metadata": {},
   "outputs": [
    {
     "data": {
      "text/plain": [
       "(892.0323158006117, 69.33113385894362)"
      ]
     },
     "execution_count": 1,
     "metadata": {},
     "output_type": "execute_result"
    }
   ],
   "source": [
    "import math\n",
    "\n",
    "x = 0.0\n",
    "h = 1.0\n",
    "rfi = 3600\n",
    "\n",
    "def theta_1(y, h, Rfi):\n",
    "    dRfi = 720\n",
    "    k = 3.3e6\n",
    "    theta1 = 345*math.log10(1.0+7.0*(Rfi-dRfi)/60)*math.exp(-y*math.sqrt(0.9*k/Rfi))\n",
    "    return theta1\n",
    "\n",
    "def theta_2(y, h, Rfi):\n",
    "    return theta_1(y, h, Rfi) + theta_1(h-y, h, Rfi) \n",
    "\n",
    "def theta_0(y, h, Rfi):\n",
    "    return 0.0\n",
    "\n",
    "def theta_d(y, z, Rfi):\n",
    "    ac = 0.04 if Rfi <= 3600 else 0.1\n",
    "    acy = max(ac-y, 0.0)\n",
    "    acz = max(ac-z, 0.0)\n",
    "    return (345*math.log10(1.0+8.0*Rfi/60)-theta_1(0, 1, Rfi))*acy*acz/ac/ac\n",
    "\n",
    "thetaq = 20+theta_1(x, h, rfi)\n",
    "thetaw = 20+theta_2(0.1, 0.6, rfi)\n",
    "thetaq, thetaw "
   ]
  },
  {
   "cell_type": "code",
   "execution_count": 2,
   "metadata": {},
   "outputs": [
    {
     "data": {
      "text/plain": [
       "892.032344196043"
      ]
     },
     "execution_count": 2,
     "metadata": {},
     "output_type": "execute_result"
    }
   ],
   "source": [
    "zside = 2 # 0, 1, 2\n",
    "yside = 2 # 0, 1, 2\n",
    "\n",
    "def temp(Rfi, y, z, by, bz, yside=0, zside=1):\n",
    "    thz = theta_2 if zside == 2 else theta_1 if zside == 1 else theta_0\n",
    "    thy = theta_2 if yside == 2 else theta_1 if yside == 1 else theta_0\n",
    "\n",
    "    ac = 0.04 if Rfi <= 3600 else 0.1\n",
    "    if yside == 0 or zside == 0:\n",
    "        dtheta = 0.0\n",
    "    elif yside == 1 and zside == 1:\n",
    "        # left bottom corner \n",
    "        dtheta = theta_d(y, z, Rfi) if (y <= ac and z <= ac) else 0.0\n",
    "    elif yside == 1 and zside == 2:\n",
    "        # left bottom and top corners\n",
    "        if y <= ac:\n",
    "            if z <= ac:\n",
    "                dtheta = theta_d(y, z, Rfi) \n",
    "            elif z >= bz-ac:\n",
    "                dtheta = theta_d(y, bz-z, Rfi)\n",
    "            else:\n",
    "                dtheta = 0.0\n",
    "        else:\n",
    "            dtheta = 0.0\n",
    "    elif yside == 2 and zside == 1:\n",
    "        if z <= ac:\n",
    "            if y <= ac:\n",
    "                dtheta = theta_d(y, z, Rfi) \n",
    "            elif y >= by-ac:\n",
    "                dtheta = theta_d(by-y, z, Rfi)\n",
    "            else:\n",
    "                dtheta = 0.0\n",
    "        else:\n",
    "            dtheta = 0.0\n",
    "    elif yside == 2 and zside == 2:\n",
    "        if y <= ac:\n",
    "            if z <= ac:\n",
    "                dtheta = theta_d(y, z, Rfi) \n",
    "            elif z >= bz-ac:\n",
    "                dtheta = theta_d(y, bz-z, Rfi)\n",
    "            else:\n",
    "                dtheta = 0.0\n",
    "        elif y >= by-ac:\n",
    "            if z <= ac:\n",
    "                dtheta = theta_d(by-y, z, Rfi) \n",
    "            elif z >= bz-ac:\n",
    "                dtheta = theta_d(by-y, bz-z, Rfi)\n",
    "            else:\n",
    "                dtheta = 0.0\n",
    "        else:\n",
    "            dtheta = 0.0\n",
    "    else:\n",
    "        dtheta = 0.0   \n",
    "\n",
    "    tt = thy(y, by, Rfi) + thz(z, bz, Rfi) - thy(y, by, Rfi)*thz(z, bz, Rfi)/theta_1(0, bz, Rfi)           + dtheta\n",
    "    return tt+20\n",
    "\n",
    "th = temp(3600, 0.2, 0.0, 0.4, 0.6, yside, zside)\n",
    "th"
   ]
  },
  {
   "cell_type": "markdown",
   "metadata": {},
   "source": [
    "Temperatures can be calculated approximately by a simplified method. The temperature profile in a section can be visualised here for a rectangular cross section."
   ]
  },
  {
   "cell_type": "code",
   "execution_count": 18,
   "metadata": {
    "tags": []
   },
   "outputs": [],
   "source": [
    "import numpy as np\n",
    "import pandas as pd\n",
    "#import plotly.colors as pc\n",
    "import plotly.graph_objects as go\n",
    "import plotly.express as px\n",
    "import ipywidgets as widgets\n",
    "\n",
    "wby = widgets.BoundedFloatText(value=0.3, step=0.01, min=0.05, max=1.0, description='By (m):', disabled=False)\n",
    "wbz = widgets.BoundedFloatText(value=0.3, step=0.01, min=0.05, max=1.0, description='Bz (m):', disabled=False)\n",
    "wyside = widgets.BoundedIntText(value=2, step=1, min=0, max=2, description='Sides Y:', disabled=False)\n",
    "wzside = widgets.BoundedIntText(value=2, step=1, min=0, max=2, description='Sides Z:', disabled=False)\n",
    "wrfi = widgets.BoundedFloatText(value=30, step=15, min=15, max=240, description='Rfi (m):', disabled=False)\n",
    "wcolor = widgets.Dropdown(options=['RdBu_r', 'jet', 'Bluered', 'Viridis'], value='RdBu_r', description='Color:', disabled=False,)\n",
    "button = widgets.Button(\n",
    "    description='Draw',\n",
    "    disabled=False,\n",
    "    button_style='', # 'success', 'info', 'warning', 'danger' or ''\n",
    "    tooltip='Draw temperature diagram in cross section',\n",
    "    icon='calculator' # (FontAwesome names without the `fa-` prefix)\n",
    ")\n"
   ]
  },
  {
   "cell_type": "code",
   "execution_count": 19,
   "metadata": {},
   "outputs": [],
   "source": [
    "def calc_dataframe(by, bz, yside, zside, rfi):\n",
    "    ny = int(by/0.01+1)\n",
    "    nz = int(bz/0.01+1)\n",
    "    rfi *= 60\n",
    "\n",
    "    yy = np.linspace(0.0, by, num=ny)\n",
    "    zz = np.linspace(0.0, bz, num=nz)\n",
    "    df = pd.DataFrame(index=zz, columns=yy)\n",
    "\n",
    "    for i, y in enumerate(yy):\n",
    "        for j, z in enumerate(zz):\n",
    "            #print(i,j,y,z)\n",
    "            df.iloc[j][i] = temp(rfi, y, z, by, bz, yside, zside)\n",
    "    return df\n",
    "\n",
    "#@widgets.interact\n",
    "#def calc_dataframe(by=wby, bz=wbz, yside=wyside, zside=wzside, rfi=wrfi)\n",
    "df = calc_dataframe(wby.value, wbz.value, wyside.value, wzside.value, wrfi.value)"
   ]
  },
  {
   "cell_type": "code",
   "execution_count": 25,
   "metadata": {},
   "outputs": [
    {
     "data": {
      "application/vnd.jupyter.widget-view+json": {
       "model_id": "b75896ca62b144e390dd95edad23229c",
       "version_major": 2,
       "version_minor": 0
      },
      "text/plain": [
       "VBox(children=(HBox(children=(VBox(children=(BoundedFloatText(value=0.3, description='By (m):', max=1.0, min=0…"
      ]
     },
     "metadata": {},
     "output_type": "display_data"
    }
   ],
   "source": [
    "# 'RdBu_r', 'jet', \"Bluered\", 'Viridis'\n",
    "#fig = go.Heatmap(x = df.columns, y = df.index, z = df, colorscale = pc.sequential.RdBu_r)\n",
    "fig = go.Heatmap(x = df.columns, y = df.index, z = df, colorscale = 'RdBu_r')\n",
    "data=[fig]\n",
    "layout = go.Layout(height= 500, width= 500.0*wbz.value/wby.value)\n",
    "figure = go.Figure(data=data, layout=layout)\n",
    "\n",
    "g = go.FigureWidget(figure)\n",
    "\n",
    "def response(change):\n",
    "    df = calc_dataframe(wby.value, wbz.value, wyside.value, wzside.value, wrfi.value) \n",
    "    with g.batch_update():\n",
    "        g.data[0].z = df\n",
    "        g.data[0].colorscale = wcolor.value\n",
    "        g.layout.height = 500.0\n",
    "        g.layout.width= 500.0*wby.value/wbz.value\n",
    "        #g.layout.autosize=False\n",
    "\n",
    "wby.observe(response, names=\"value\")\n",
    "wbz.observe(response, names=\"value\")\n",
    "wyside.observe(response, names=\"value\")\n",
    "wzside.observe(response, names=\"value\")\n",
    "wrfi.observe(response, names=\"value\")\n",
    "wcolor.observe(response, names=\"value\")\n",
    "\n",
    "hbox = widgets.HBox([widgets.VBox([wby, wbz, wrfi]), widgets.VBox([wyside, wzside, wcolor])])\n",
    "vbox = widgets.VBox([hbox, g])\n",
    "vbox"
   ]
  },
  {
   "cell_type": "code",
   "execution_count": null,
   "metadata": {},
   "outputs": [],
   "source": []
  },
  {
   "cell_type": "code",
   "execution_count": null,
   "metadata": {},
   "outputs": [],
   "source": []
  }
 ],
 "metadata": {
  "kernelspec": {
   "display_name": "venv",
   "language": "python",
   "name": "venv"
  },
  "language_info": {
   "codemirror_mode": {
    "name": "ipython",
    "version": 3
   },
   "file_extension": ".py",
   "mimetype": "text/x-python",
   "name": "python",
   "nbconvert_exporter": "python",
   "pygments_lexer": "ipython3",
   "version": "3.8.3"
  }
 },
 "nbformat": 4,
 "nbformat_minor": 4
}
