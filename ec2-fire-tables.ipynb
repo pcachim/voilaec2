{
 "cells": [
  {
   "cell_type": "markdown",
   "metadata": {},
   "source": [
    "# EC2 Fire on concrete structures - tabulated data\n",
    "\n",
    "This notebook calculates the change in distance to temperatures different from the standard crritical tempeature $\\theta_{cr}$. Accoding to eurocode, temperature in steel under fire conditions, $\\sigma_{s,fi}$, can be approximately calculated by \n",
    "\n",
    "$$\\sigma_{s,fi}=\\frac{E_{d,fi}}{E_d} \\frac{f_{yk}}{\\gamma_s} \\frac{A_{s,req}}{A_{s,prov}}$$\n",
    "\n",
    "With this new stress, the new critical temperature can be calculated and the change in the distance can be calculated (in mm) by:\n",
    "\n",
    "$$\\Delta a=0.1\\left( 500-\\theta_{cr}\\right)$$\n",
    "\n",
    "The ratio $\\frac{E_{d,fi}}{E_d}=\\eta_{fi}$ can be considered as 0.7, but can be calculated by\n",
    "\n",
    "$$\\eta_{fi}=\\frac{G+\\psi_{fi}Q}{\\gamma_GG+\\gamma_QQ}\\text{, usually }\\eta_{fi}=\\frac{G+\\psi_{1}Q}{1.35G+1.5Q}$$\n",
    "\n",
    "The usual value for ${\\gamma_{s}}$ is 1.15\n",
    "\n",
    "## OOther notebooks in this series\n",
    "\n",
    "* calculating the distribution of temperature in a rrectangular cross section using siimplified rules: [temperature profiles](ec2-fire-simplified.ipynb)"
   ]
  },
  {
   "cell_type": "code",
   "execution_count": 1,
   "metadata": {},
   "outputs": [],
   "source": [
    "import ipywidgets as widgets\n",
    "import numpy as np\n",
    "\n",
    "wetafi = widgets.BoundedFloatText(value=0.7, step=0.01, min=0.05, max=1.0, description='Ed_fi/Ed:', disabled=False)\n",
    "wgs = widgets.BoundedFloatText(value=1.15, min=1.0, max=2, step=0.01, description='g_s:', disabled=False)\n",
    "wfyk = widgets.BoundedFloatText(value=500, step=100, min=400, max=700, description='fyk (MPa):', disabled=False)\n",
    "wasrp = widgets.BoundedFloatText(value=1.0, step=0.01, min=0.2, max=1.0, description='As.rq/As.pv:', disabled=False)"
   ]
  },
  {
   "cell_type": "code",
   "execution_count": 2,
   "metadata": {},
   "outputs": [],
   "source": [
    "def delta_a(eta_fi, gamma_s, fyk, as_req_prov):\n",
    "    sig_s0 = np.array([20, 100, 200, 300, 400, 500, 600, 700, 800, 900, 1000, 1100, 1200])\n",
    "    sig_kt = np.array([1.0, 0.999999, 0.9, 0.85, 0.8, 0.6, 0.35, \n",
    "                       0.1, 0.08, 0.06, 0.04, 0.02, 0.0])\n",
    "    sig_s = eta_fi * fyk * as_req_prov / gamma_s\n",
    "    k_s = sig_s / fyk\n",
    "    temp = np.interp(k_s, np.flip(sig_kt), np.flip(sig_s0))\n",
    "    valid = 345 <= temp <= 705\n",
    "    return round(0.1 * (500 - temp), 0), temp, valid"
   ]
  },
  {
   "cell_type": "code",
   "execution_count": 3,
   "metadata": {},
   "outputs": [
    {
     "data": {
      "application/vnd.jupyter.widget-view+json": {
       "model_id": "97a313265e6b4a5d9004f47362ffe2fa",
       "version_major": 2,
       "version_minor": 0
      },
      "text/plain": [
       "interactive(children=(BoundedFloatText(value=0.7, description='Ed_fi/Ed:', max=1.0, min=0.05, step=0.01), Boun…"
      ]
     },
     "metadata": {},
     "output_type": "display_data"
    }
   ],
   "source": [
    "@widgets.interact\n",
    "def calc_delta_a(etafi=wetafi, fyk=wfyk, gs=wgs, asrp=wasrp):\n",
    "    da, b, c = delta_a(etafi, gs, fyk, asrp)\n",
    "    print(f\"{da=} mm\")"
   ]
  },
  {
   "cell_type": "code",
   "execution_count": 4,
   "metadata": {},
   "outputs": [],
   "source": [
    "wall_a40rei = np.array([\n",
    "    [10, 10, 10],\n",
    "    [10, 15, 20],\n",
    "    [20, 25, 30],\n",
    "    [25, 30, 35],\n",
    "    [35, 40, 45],\n",
    "    [40, 45, 50] ])\n",
    "\n",
    "wall_h40rei = np.array([\n",
    "    [100, 110, 120],\n",
    "    [110, 120, 130],\n",
    "    [120, 135, 140],\n",
    "    [135, 150, 160],\n",
    "    [155, 170, 180],\n",
    "    [180, 200, 210] ])\n",
    "\n",
    "wall_h40r = np.array([\n",
    "    [100, 120, 130],\n",
    "    [120, 155, 170],\n",
    "    [140, 185, 210],\n",
    "    [165, 210, 240],\n",
    "    [200, 250, 280],\n",
    "    [250, 305, 340] ])\n",
    "\n",
    "wall_a40r = np.array([\n",
    "    [10, 10, 10],\n",
    "    [15, 20, 25],\n",
    "    [20, 30, 35],\n",
    "    [30, 40, 45],\n",
    "    [45, 50, 45],\n",
    "    [50, 55, 60] ])"
   ]
  },
  {
   "cell_type": "code",
   "execution_count": 5,
   "metadata": {},
   "outputs": [],
   "source": [
    "wall_h25rei = np.array([\n",
    "    [ 80,  90, 100],\n",
    "    [ 90, 100, 110],\n",
    "    [100, 110, 120],\n",
    "    [120, 120, 130],\n",
    "    [150, 150, 150],\n",
    "    [170, 175, 175] ])\n",
    "\n",
    "wall_h25r = np.array([\n",
    "    [ 90, 100, 110],\n",
    "    [110, 125, 140],\n",
    "    [125, 155, 170],\n",
    "    [140, 175, 200],\n",
    "    [175, 215, 240],\n",
    "    [200, 250, 280] ])\n",
    "\n",
    "wall_a25rei = np.array([\n",
    "    [10, 10, 10],\n",
    "    [10, 10, 15],\n",
    "    [10, 15, 20],\n",
    "    [15, 20, 25],\n",
    "    [20, 25, 30],\n",
    "    [25, 30, 35] ])\n",
    "\n",
    "wall_a25r = np.array([\n",
    "    [10, 10, 10],\n",
    "    [10, 15, 20],\n",
    "    [15, 25, 30],\n",
    "    [25, 35, 40],\n",
    "    [30, 40, 45],\n",
    "    [35, 45, 50] ])"
   ]
  },
  {
   "cell_type": "code",
   "execution_count": 6,
   "metadata": {},
   "outputs": [],
   "source": [
    "beam_bsimp = np.array([\n",
    "    [ 80, 120, 160, 200],\n",
    "    [120, 160, 200, 300],\n",
    "    [150, 200, 300, 400],\n",
    "    [200, 240, 300, 500],\n",
    "    [240, 300, 400, 600],\n",
    "    [280, 350, 500, 700] ])\n",
    "\n",
    "beam_bwsimp = np.array([\n",
    "    [ 80],\n",
    "    [100],\n",
    "    [110],\n",
    "    [120],\n",
    "    [140],\n",
    "    [160] ])\n",
    "\n",
    "beam_asimp = np.array([\n",
    "    [25, 20, 15, 15],\n",
    "    [40, 35, 30, 25],\n",
    "    [55, 45, 40, 35],\n",
    "    [65, 60, 55, 50],\n",
    "    [80, 70, 65, 60],\n",
    "    [90, 80, 75, 70] ])\n"
   ]
  },
  {
   "cell_type": "code",
   "execution_count": 7,
   "metadata": {},
   "outputs": [
    {
     "name": "stdout",
     "output_type": "stream",
     "text": [
      "df2-int\n",
      "       0.2   0.5   0.7    0.6\n",
      "30   10.0  10.0  10.0  10.00\n",
      "60   15.0  20.0  25.0  22.50\n",
      "90   20.0  30.0  35.0  32.50\n",
      "120  30.0  40.0  45.0  42.50\n",
      "180  45.0  50.0  45.0  47.50\n",
      "240  50.0  55.0  60.0  57.50\n",
      "45   12.5  15.0  17.5  16.25\n"
     ]
    }
   ],
   "source": [
    "import math\n",
    "import numpy as np\n",
    "import pandas as pd\n",
    "index = [30, 60, 90, 120, 180, 240]\n",
    "rindex = ['R30', 'R60', 'R90', 'R120', 'R180', 'R240']\n",
    "reiindex = ['REI30', 'REI60', 'REI90', 'REI120', 'REI180', 'REI240']\n",
    "columns = [0.2, 0.5, 0.7]\n",
    "\n",
    "values = wall_a40r\n",
    "df = pd.DataFrame(values, index=index, columns=columns)\n",
    "\n",
    "row_df = pd.DataFrame([[math.nan, math.nan, math.nan]], index = [45], columns=columns)\n",
    "df2 = pd.concat([df, row_df])\n",
    "df2.loc[:,0.6] = pd.Series(dtype=float)\n",
    "\n",
    "df2.interpolate(method='slinear', axis=1, inplace=True)\n",
    "df2.interpolate(method='slinear', axis=0, inplace=True)\n",
    "print(\"df2-int\\n\",df2)\n"
   ]
  },
  {
   "cell_type": "code",
   "execution_count": null,
   "metadata": {},
   "outputs": [],
   "source": []
  }
 ],
 "metadata": {
  "kernelspec": {
   "display_name": "Python 3",
   "language": "python",
   "name": "python3"
  },
  "language_info": {
   "codemirror_mode": {
    "name": "ipython",
    "version": 3
   },
   "file_extension": ".py",
   "mimetype": "text/x-python",
   "name": "python",
   "nbconvert_exporter": "python",
   "pygments_lexer": "ipython3",
   "version": "3.9.2"
  }
 },
 "nbformat": 4,
 "nbformat_minor": 4
}
