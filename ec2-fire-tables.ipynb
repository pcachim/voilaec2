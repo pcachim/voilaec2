{
 "cells": [
  {
   "cell_type": "markdown",
   "metadata": {},
   "source": [
    "# EC2 Fire on concrete structures - tabulated data\n",
    "\n",
    "This notebook calculates the change in distance to temperatures different from the standard crritical tempeature $\\theta_{cr}$. Accoding to eurocode, temperature in steel under fire conditions, $\\sigma_{s,fi}$, can be approximately calculated by \n",
    "\n",
    "$$\\sigma_{s,fi}=\\frac{E_{d,fi}}{E_d} \\frac{f_{yk}}{\\gamma_s} \\frac{A_{s,req}}{A_{s,prov}}$$\n",
    "\n",
    "With this new stress, the new critical temperature can be calculated and the change in the distance can be calculated (in mm) by:\n",
    "\n",
    "$$\\Delta a=0.1\\left( 500-\\theta_{cr}\\right)$$\n",
    "\n",
    "The ratio $\\frac{E_{d,fi}}{E_d}=\\eta_{fi}$ can be considered as 0.7, but can be calculated by\n",
    "\n",
    "$$\\eta_{fi}=\\frac{G+\\psi_{fi}Q}{\\gamma_GG+\\gamma_QQ}\\text{, usually }\\eta_{fi}=\\frac{G+\\psi_{1}Q}{1.35G+1.5Q}$$\n",
    "\n",
    "The usual value for ${\\gamma_{s}}$ is 1.15"
   ]
  },
  {
   "cell_type": "code",
   "execution_count": 2,
   "metadata": {},
   "outputs": [
    {
     "output_type": "error",
     "ename": "ModuleNotFoundError",
     "evalue": "No module named 'ipywidgets'",
     "traceback": [
      "\u001b[0;31m---------------------------------------------------------------------------\u001b[0m",
      "\u001b[0;31mModuleNotFoundError\u001b[0m                       Traceback (most recent call last)",
      "\u001b[0;32m<ipython-input-2-316c48f63f25>\u001b[0m in \u001b[0;36m<module>\u001b[0;34m\u001b[0m\n\u001b[0;32m----> 1\u001b[0;31m \u001b[0;32mimport\u001b[0m \u001b[0mipywidgets\u001b[0m \u001b[0;32mas\u001b[0m \u001b[0mwidgets\u001b[0m\u001b[0;34m\u001b[0m\u001b[0;34m\u001b[0m\u001b[0m\n\u001b[0m\u001b[1;32m      2\u001b[0m \u001b[0;32mimport\u001b[0m \u001b[0mnumpy\u001b[0m \u001b[0;32mas\u001b[0m \u001b[0mnp\u001b[0m\u001b[0;34m\u001b[0m\u001b[0;34m\u001b[0m\u001b[0m\n\u001b[1;32m      3\u001b[0m \u001b[0;34m\u001b[0m\u001b[0m\n\u001b[1;32m      4\u001b[0m \u001b[0mwetafi\u001b[0m \u001b[0;34m=\u001b[0m \u001b[0mwidgets\u001b[0m\u001b[0;34m.\u001b[0m\u001b[0mBoundedFloatText\u001b[0m\u001b[0;34m(\u001b[0m\u001b[0mvalue\u001b[0m\u001b[0;34m=\u001b[0m\u001b[0;36m0.7\u001b[0m\u001b[0;34m,\u001b[0m \u001b[0mstep\u001b[0m\u001b[0;34m=\u001b[0m\u001b[0;36m0.01\u001b[0m\u001b[0;34m,\u001b[0m \u001b[0mmin\u001b[0m\u001b[0;34m=\u001b[0m\u001b[0;36m0.05\u001b[0m\u001b[0;34m,\u001b[0m \u001b[0mmax\u001b[0m\u001b[0;34m=\u001b[0m\u001b[0;36m1.0\u001b[0m\u001b[0;34m,\u001b[0m \u001b[0mdescription\u001b[0m\u001b[0;34m=\u001b[0m\u001b[0;34m'Ed_fi/Ed:'\u001b[0m\u001b[0;34m,\u001b[0m \u001b[0mdisabled\u001b[0m\u001b[0;34m=\u001b[0m\u001b[0;32mFalse\u001b[0m\u001b[0;34m)\u001b[0m\u001b[0;34m\u001b[0m\u001b[0;34m\u001b[0m\u001b[0m\n\u001b[1;32m      5\u001b[0m \u001b[0mwgs\u001b[0m \u001b[0;34m=\u001b[0m \u001b[0mwidgets\u001b[0m\u001b[0;34m.\u001b[0m\u001b[0mBoundedFloatText\u001b[0m\u001b[0;34m(\u001b[0m\u001b[0mvalue\u001b[0m\u001b[0;34m=\u001b[0m\u001b[0;36m1.15\u001b[0m\u001b[0;34m,\u001b[0m \u001b[0mmin\u001b[0m\u001b[0;34m=\u001b[0m\u001b[0;36m1.0\u001b[0m\u001b[0;34m,\u001b[0m \u001b[0mmax\u001b[0m\u001b[0;34m=\u001b[0m\u001b[0;36m2\u001b[0m\u001b[0;34m,\u001b[0m \u001b[0mstep\u001b[0m\u001b[0;34m=\u001b[0m\u001b[0;36m0.01\u001b[0m\u001b[0;34m,\u001b[0m \u001b[0mdescription\u001b[0m\u001b[0;34m=\u001b[0m\u001b[0;34m'g_s:'\u001b[0m\u001b[0;34m,\u001b[0m \u001b[0mdisabled\u001b[0m\u001b[0;34m=\u001b[0m\u001b[0;32mFalse\u001b[0m\u001b[0;34m)\u001b[0m\u001b[0;34m\u001b[0m\u001b[0;34m\u001b[0m\u001b[0m\n",
      "\u001b[0;31mModuleNotFoundError\u001b[0m: No module named 'ipywidgets'"
     ]
    }
   ],
   "source": [
    "import ipywidgets as widgets\n",
    "import numpy as np\n",
    "\n",
    "wetafi = widgets.BoundedFloatText(value=0.7, step=0.01, min=0.05, max=1.0, description='Ed_fi/Ed:', disabled=False)\n",
    "wgs = widgets.BoundedFloatText(value=1.15, min=1.0, max=2, step=0.01, description='g_s:', disabled=False)\n",
    "wfyk = widgets.BoundedFloatText(value=500, step=100, min=400, max=700, description='fyk (MPa):', disabled=False)\n",
    "wasrp = widgets.BoundedFloatText(value=1.0, step=0.01, min=0.2, max=1.0, description='As.rq/As.pv:', disabled=False)"
   ]
  },
  {
   "cell_type": "code",
   "execution_count": 1,
   "metadata": {},
   "outputs": [],
   "source": [
    "def delta_a(eta_fi, gamma_s, fyk, as_req_prov):\n",
    "    sig_s0 = np.array([20, 100, 200, 300, 400, 500, 600, 700, 800, 900, 1000, 1100, 1200])\n",
    "    sig_kt = np.array([1.0, 0.999999, 0.9, 0.85, 0.8, 0.6, 0.35, \n",
    "                       0.1, 0.08, 0.06, 0.04, 0.02, 0.0])\n",
    "    sig_s = eta_fi * fyk * as_req_prov / gamma_s\n",
    "    k_s = sig_s / fyk\n",
    "    temp = np.interp(k_s, np.flip(sig_kt), np.flip(sig_s0))\n",
    "    valid = 345 <= temp <= 705\n",
    "    return round(0.1 * (500 - temp), 0), temp, valid"
   ]
  },
  {
   "cell_type": "code",
   "execution_count": 2,
   "metadata": {},
   "outputs": [
    {
     "output_type": "error",
     "ename": "NameError",
     "evalue": "name 'widgets' is not defined",
     "traceback": [
      "\u001b[0;31m---------------------------------------------------------------------------\u001b[0m",
      "\u001b[0;31mNameError\u001b[0m                                 Traceback (most recent call last)",
      "\u001b[0;32m<ipython-input-2-3e1d877826fc>\u001b[0m in \u001b[0;36m<module>\u001b[0;34m\u001b[0m\n\u001b[0;32m----> 1\u001b[0;31m \u001b[0;34m@\u001b[0m\u001b[0mwidgets\u001b[0m\u001b[0;34m.\u001b[0m\u001b[0minteract\u001b[0m\u001b[0;34m\u001b[0m\u001b[0;34m\u001b[0m\u001b[0m\n\u001b[0m\u001b[1;32m      2\u001b[0m \u001b[0;32mdef\u001b[0m \u001b[0mcalc_delta_a\u001b[0m\u001b[0;34m(\u001b[0m\u001b[0metafi\u001b[0m\u001b[0;34m=\u001b[0m\u001b[0mwetafi\u001b[0m\u001b[0;34m,\u001b[0m \u001b[0mfyk\u001b[0m\u001b[0;34m=\u001b[0m\u001b[0mwfyk\u001b[0m\u001b[0;34m,\u001b[0m \u001b[0mgs\u001b[0m\u001b[0;34m=\u001b[0m\u001b[0mwgs\u001b[0m\u001b[0;34m,\u001b[0m \u001b[0masrp\u001b[0m\u001b[0;34m=\u001b[0m\u001b[0mwasrp\u001b[0m\u001b[0;34m)\u001b[0m\u001b[0;34m:\u001b[0m\u001b[0;34m\u001b[0m\u001b[0;34m\u001b[0m\u001b[0m\n\u001b[1;32m      3\u001b[0m     \u001b[0mda\u001b[0m\u001b[0;34m,\u001b[0m \u001b[0mb\u001b[0m\u001b[0;34m,\u001b[0m \u001b[0mc\u001b[0m \u001b[0;34m=\u001b[0m \u001b[0mdelta_a\u001b[0m\u001b[0;34m(\u001b[0m\u001b[0metafi\u001b[0m\u001b[0;34m,\u001b[0m \u001b[0mgs\u001b[0m\u001b[0;34m,\u001b[0m \u001b[0mfyk\u001b[0m\u001b[0;34m,\u001b[0m \u001b[0masrp\u001b[0m\u001b[0;34m)\u001b[0m\u001b[0;34m\u001b[0m\u001b[0;34m\u001b[0m\u001b[0m\n\u001b[1;32m      4\u001b[0m     \u001b[0mprint\u001b[0m\u001b[0;34m(\u001b[0m\u001b[0;34mf\"{da=} mm\"\u001b[0m\u001b[0;34m)\u001b[0m\u001b[0;34m\u001b[0m\u001b[0;34m\u001b[0m\u001b[0m\n",
      "\u001b[0;31mNameError\u001b[0m: name 'widgets' is not defined"
     ]
    }
   ],
   "source": [
    "@widgets.interact\n",
    "def calc_delta_a(etafi=wetafi, fyk=wfyk, gs=wgs, asrp=wasrp):\n",
    "    da, b, c = delta_a(etafi, gs, fyk, asrp)\n",
    "    print(f\"{da=} mm\")"
   ]
  },
  {
   "cell_type": "code",
   "execution_count": null,
   "metadata": {},
   "outputs": [],
   "source": []
  }
 ],
 "metadata": {
  "kernelspec": {
   "display_name": "Python 3",
   "language": "python",
   "name": "python3"
  }
 },
 "nbformat": 4,
 "nbformat_minor": 4
}