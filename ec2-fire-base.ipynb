{
 "metadata": {
  "language_info": {
   "codemirror_mode": {
    "name": "ipython",
    "version": 3
   },
   "file_extension": ".py",
   "mimetype": "text/x-python",
   "name": "python",
   "nbconvert_exporter": "python",
   "pygments_lexer": "ipython3",
   "version": 3
  },
  "orig_nbformat": 2
 },
 "nbformat": 4,
 "nbformat_minor": 2,
 "cells": [
  {
   "source": [
    "# EC2 Fire design of concrete structures (EN 1992-1-2)\n",
    "\n",
    "**Notebooks in this series**\n",
    "\n",
    "* correcting the distance according to critical temperature in tabulated data: [distance correction](./ec2-fire-tables.ipynb)\n",
    "* calculating the distribution of temperature in a rectangular cross section using siimplified rules: [temperature profiles](ec2-fire-simplified.ipynb)\n"
   ],
   "cell_type": "markdown",
   "metadata": {}
  },
  {
   "source": [
    "Next: [distance correction](./ec2-fire-tables.ipynb)"
   ],
   "cell_type": "markdown",
   "metadata": {}
  }
 ]
}